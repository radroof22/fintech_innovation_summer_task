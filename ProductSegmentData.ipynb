{
 "cells": [
  {
   "cell_type": "code",
   "execution_count": 77,
   "metadata": {},
   "outputs": [
    {
     "name": "stdout",
     "output_type": "stream",
     "text": [
      "The autoreload extension is already loaded. To reload it, use:\n",
      "  %reload_ext autoreload\n"
     ]
    }
   ],
   "source": [
    "%load_ext autoreload\n",
    "%autoreload 2"
   ]
  },
  {
   "cell_type": "markdown",
   "metadata": {},
   "source": [
    "# Load Text"
   ]
  },
  {
   "cell_type": "code",
   "execution_count": null,
   "metadata": {},
   "outputs": [],
   "source": [
    "from bs4 import BeautifulSoup\n",
    "def load_text(path):\n",
    "    # read 10k report\n",
    "    raw_text = None\n",
    "    with open(path) as f:\n",
    "        raw_text = f.read()\n",
    "\n",
    "    soup = BeautifulSoup(raw_text, \"lxml\")\n",
    "    text_only = soup.contents[0].get_text()\n",
    "    return text_only"
   ]
  },
  {
   "cell_type": "code",
   "execution_count": null,
   "metadata": {},
   "outputs": [],
   "source": [
    "\n",
    "import pandas as pd\n",
    "text_map = {\"Company\": [\"INTC\", 'INTC', \"AAPL\", \"AAPL\", \"KO\", \"KO\"], \n",
    "            \"Year\": [1999, 2015, 2008, 1997, 2000, 2017], \n",
    "            \"Path\": ['/Users/rohan/Code/fintech_innovation_summer_task/sec-edgar-filings/INTC/10-K/0001047469-99-011450/full-submission.txt', '/Users/rohan/Code/fintech_innovation_summer_task/sec-edgar-filings/INTC/10-K/0000050863-15-000015/full-submission.txt', '/Users/rohan/Code/fintech_innovation_summer_task/sec-edgar-filings/AAPL/10-K/0001193125-08-224958/full-submission.txt', '/Users/rohan/Code/fintech_innovation_summer_task/sec-edgar-filings/AAPL/10-K/0001047469-97-006960/full-submission.txt', '/Users/rohan/Code/fintech_innovation_summer_task/sec-edgar-filings/KO/10-K/0000021344-00-000009/full-submission.txt', '/Users/rohan/Code/fintech_innovation_summer_task/sec-edgar-filings/KO/10-K/0000021344-17-000009/full-submission.txt']}\n",
    "df = pd.DataFrame(text_map)\n",
    "\n",
    "text_lst = []\n",
    "for i in range(len(df)):\n",
    "    text_only = load_text(df.iloc[i].Path)\n",
    "    text_lst.append(text_only)\n",
    "\n",
    "df[\"Text\"] = text_lst"
   ]
  },
  {
   "cell_type": "code",
   "execution_count": null,
   "metadata": {},
   "outputs": [],
   "source": [
    "df.head()"
   ]
  },
  {
   "cell_type": "code",
   "execution_count": null,
   "metadata": {},
   "outputs": [],
   "source": [
    "raw_text = None\n",
    "with open(text_map[\"Path\"][0]) as f:\n",
    "    raw_text = f.read()\n",
    "\n",
    "soup = BeautifulSoup(raw_text, \"lxml\")\n",
    "print(type(soup.contents[0].get_text()))"
   ]
  },
  {
   "cell_type": "markdown",
   "metadata": {},
   "source": [
    "# Load JSON"
   ]
  },
  {
   "cell_type": "code",
   "execution_count": 2,
   "metadata": {},
   "outputs": [],
   "source": [
    "# load json parsed\n",
    "\n",
    "import pandas as pd\n",
    "df_intc = pd.read_json(\"data/sec_items/sec_items_INTC.json\")\n",
    "df_ko = pd.read_json(\"data/sec_items/sec_items_KO.json\")\n",
    "df_aapl = pd.read_json('data/sec_items/sec_items_AAPL.json')\n",
    "\n",
    "df = pd.concat([df_intc, df_ko, df_aapl], axis=0)\n",
    "df_7 = df[(df.Item == \"ITEM 7\") | (df.Item == \"ITEM 7A\") | (df.Item == \"Item 7B\")]"
   ]
  },
  {
   "cell_type": "code",
   "execution_count": 3,
   "metadata": {},
   "outputs": [],
   "source": [
    "unique_companies = df_7.Company.unique()\n",
    "unique_years = df_7.Year.unique()"
   ]
  },
  {
   "cell_type": "markdown",
   "metadata": {},
   "source": [
    "# Extract Operating Segments - JSON"
   ]
  },
  {
   "cell_type": "code",
   "execution_count": 4,
   "metadata": {},
   "outputs": [],
   "source": [
    "import re\n",
    "pattern = r\"(?i)operating\\s+segment\"\n",
    "DELTA = 100"
   ]
  },
  {
   "cell_type": "code",
   "execution_count": 5,
   "metadata": {},
   "outputs": [
    {
     "name": "stdout",
     "output_type": "stream",
     "text": [
      "INTC 2003 => 72098\n",
      "Segments found for\t('INTC', 2003)\t6\t1307\n",
      "INTC 2013 => 80833\n",
      "Segments found for\t('INTC', 2013)\t28\t6103\n",
      "KO 2003 => 726\n",
      "Segments found for\t('KO', 2003)\t0\t0\n",
      "KO 2013 => 231263\n",
      "Segments found for\t('KO', 2013)\t80\t17439\n",
      "AAPL 2003 => 142043\n",
      "Segments found for\t('AAPL', 2003)\t14\t3051\n",
      "AAPL 2013 => 159\n",
      "Segments found for\t('AAPL', 2013)\t0\t0\n"
     ]
    }
   ],
   "source": [
    "from llm import identify_operating_segments\n",
    "operating_segments_llama_raw = []\n",
    "for company in unique_companies:\n",
    "    for year in unique_years[0:2]:\n",
    "        df_temp = df_7[(df_7.Company == company) & (df_7.Year == year)]\n",
    "        \n",
    "        items_7_total_text = \"\"\n",
    "        for i in range(len(df_temp)):\n",
    "            items_7_total_text += df_temp.iloc[i].Text\n",
    "\n",
    "        print(f\"{company} {year} => {len(items_7_total_text)}\")\n",
    "\n",
    "        matches = list(re.finditer(pattern, items_7_total_text))\n",
    "        snippets = [items_7_total_text[m.start() - DELTA: m.end() + DELTA] for m in matches]\n",
    "        print(f\"Segments found for\\t{company, year}\\t{len(snippets)}\\t{len(\" \".join(snippets))}\")\n",
    "        llama_response = identify_operating_segments(\"\\n\\n\".join(snippets), company, year)\n",
    "        operating_segments_llama_raw.append(llama_response)"
   ]
  },
  {
   "cell_type": "code",
   "execution_count": 6,
   "metadata": {},
   "outputs": [
    {
     "data": {
      "text/plain": [
       "['Based on the provided 10-K report, the operating segments of Intel Corporation in the year 2003 are:\\n\\nIntel Architecture Business, Communications and Computing Group, Intel Communications Group',\n",
       " 'Here is the final list of operating segments:\\n\\nPC Client Group, Data Center Group, Other Intel Architecture Operating Segments, Software and Services Operating Segments',\n",
       " '',\n",
       " 'Based on my previous responses, here is the final list of operating segments for KO in 2013:\\n\\nEurasia and Africa, Europe, Latin America, North America, Pacific, Bottling Investments, Corporate',\n",
       " 'Based on the 10-K report, the operating segments of AAPL in 2003 are:\\n\\nAmericas, Europe, Japan, Retail\\n\\nLet me know if you need any further assistance!',\n",
       " '']"
      ]
     },
     "execution_count": 6,
     "metadata": {},
     "output_type": "execute_result"
    }
   ],
   "source": [
    "operating_segments_llama_raw"
   ]
  },
  {
   "cell_type": "code",
   "execution_count": 7,
   "metadata": {},
   "outputs": [],
   "source": [
    "operating_segments_list = []\n",
    "for llama_response in operating_segments_llama_raw:\n",
    "    report_op_segs = []\n",
    "    for line in llama_response.split(\"\\n\\n\"):\n",
    "        if line.count(\",\") > 1:\n",
    "            for oper_seg in line.split(\",\"):\n",
    "                if \"and \" == oper_seg.strip()[:4]:\n",
    "                    oper_seg = oper_seg.split(\"and \")[1]\n",
    "                report_op_segs.append(oper_seg.strip())\n",
    "    operating_segments_list.append(report_op_segs)"
   ]
  },
  {
   "cell_type": "code",
   "execution_count": 8,
   "metadata": {},
   "outputs": [
    {
     "data": {
      "text/plain": [
       "[['Intel Architecture Business',\n",
       "  'Communications and Computing Group',\n",
       "  'Intel Communications Group'],\n",
       " ['PC Client Group',\n",
       "  'Data Center Group',\n",
       "  'Other Intel Architecture Operating Segments',\n",
       "  'Software and Services Operating Segments'],\n",
       " [],\n",
       " ['Eurasia and Africa',\n",
       "  'Europe',\n",
       "  'Latin America',\n",
       "  'North America',\n",
       "  'Pacific',\n",
       "  'Bottling Investments',\n",
       "  'Corporate'],\n",
       " ['Americas', 'Europe', 'Japan', 'Retail'],\n",
       " []]"
      ]
     },
     "execution_count": 8,
     "metadata": {},
     "output_type": "execute_result"
    }
   ],
   "source": [
    "operating_segments_list"
   ]
  },
  {
   "cell_type": "markdown",
   "metadata": {},
   "source": [
    "# Identify Revenue Per Operating Segment\n",
    "\n",
    "- Feed information about mentions of \"by Operating Segment\"\n",
    "- Feed information about mentions of the *specific* operating segment"
   ]
  },
  {
   "cell_type": "code",
   "execution_count": 9,
   "metadata": {},
   "outputs": [],
   "source": [
    "import re\n",
    "by_op_seg_pattern = r\"(?i)by\\s+operating\\s+segment\"\n",
    "def gen_spec_op_seg_pattern(operating_segment_name):\n",
    "    words = operating_segment_name.split(\" \")\n",
    "    return r\"(?i)\" + r\"\\s+\".join(words)\n",
    "DELTA = 100"
   ]
  },
  {
   "cell_type": "code",
   "execution_count": 10,
   "metadata": {},
   "outputs": [
    {
     "data": {
      "text/plain": [
       "[['Intel Architecture Business',\n",
       "  'Communications and Computing Group',\n",
       "  'Intel Communications Group'],\n",
       " ['PC Client Group',\n",
       "  'Data Center Group',\n",
       "  'Other Intel Architecture Operating Segments',\n",
       "  'Software and Services Operating Segments'],\n",
       " [],\n",
       " ['Eurasia and Africa',\n",
       "  'Europe',\n",
       "  'Latin America',\n",
       "  'North America',\n",
       "  'Pacific',\n",
       "  'Bottling Investments',\n",
       "  'Corporate'],\n",
       " ['Americas', 'Europe', 'Japan', 'Retail'],\n",
       " []]"
      ]
     },
     "execution_count": 10,
     "metadata": {},
     "output_type": "execute_result"
    }
   ],
   "source": [
    "operating_segments_list"
   ]
  },
  {
   "cell_type": "code",
   "execution_count": 16,
   "metadata": {},
   "outputs": [
    {
     "name": "stdout",
     "output_type": "stream",
     "text": [
      "$2,345 million - Matched\n",
      "$2345 - Matched\n",
      "$2,451,321 billion - Matched\n"
     ]
    }
   ],
   "source": [
    "import re\n",
    "\n",
    "# Regex pattern for $2,345 million, $2345, and $2,451,321 billion\n",
    "pattern = r\"\\$\\d+(,\\d{3})*(?:\\.\\d+)?(?:\\s?(million|billion))?\"\n",
    "\n",
    "# Test strings\n",
    "strings = [\"$2,345 million\", \"$2345\", \"$2,451,321 billion\"]\n",
    "\n",
    "# Iterate through strings and test with regex\n",
    "for string in strings:\n",
    "  if re.match(pattern, string):\n",
    "    print(f\"{string} - Matched\")\n",
    "  else:\n",
    "    print(f\"{string} - Not Matched\")\n"
   ]
  },
  {
   "cell_type": "code",
   "execution_count": 11,
   "metadata": {
    "scrolled": true
   },
   "outputs": [
    {
     "name": "stdout",
     "output_type": "stream",
     "text": [
      "Segments found for\t('INTC', 2003, 'Intel Architecture Business')\tCount: 11\tTotal Token Estimate: 2517\n",
      "Segments found for\t('INTC', 2003, 'Communications and Computing Group')\tCount: 3\tTotal Token Estimate: 706\n",
      "Segments found for\t('INTC', 2003, 'Intel Communications Group')\tCount: 3\tTotal Token Estimate: 682\n",
      "Segments found for\t('INTC', 2013, 'PC Client Group')\tCount: 11\tTotal Token Estimate: 2385\n",
      "Segments found for\t('INTC', 2013, 'Data Center Group')\tCount: 10\tTotal Token Estimate: 2188\n",
      "Segments found for\t('INTC', 2013, 'Other Intel Architecture Operating Segments')\tCount: 3\tTotal Token Estimate: 733\n",
      "Segments found for\t('INTC', 2013, 'Software and Services Operating Segments')\tCount: 1\tTotal Token Estimate: 240\n",
      "Segments found for\t('KO', 2013, 'Eurasia and Africa')\tCount: 27\tTotal Token Estimate: 5956\n",
      "Segments found for\t('KO', 2013, 'Europe')\tCount: 46\tTotal Token Estimate: 9692\n",
      "Segments found for\t('KO', 2013, 'Latin America')\tCount: 42\tTotal Token Estimate: 9091\n",
      "Segments found for\t('KO', 2013, 'North America')\tCount: 137\tTotal Token Estimate: 29516\n",
      "Segments found for\t('KO', 2013, 'Pacific')\tCount: 40\tTotal Token Estimate: 8475\n",
      "Segments found for\t('KO', 2013, 'Bottling Investments')\tCount: 59\tTotal Token Estimate: 13096\n",
      "Segments found for\t('KO', 2013, 'Corporate')\tCount: 33\tTotal Token Estimate: 7060\n",
      "Segments found for\t('AAPL', 2003, 'Americas')\tCount: 27\tTotal Token Estimate: 5704\n",
      "Segments found for\t('AAPL', 2003, 'Europe')\tCount: 21\tTotal Token Estimate: 4408\n",
      "Segments found for\t('AAPL', 2003, 'Japan')\tCount: 27\tTotal Token Estimate: 5632\n",
      "Segments found for\t('AAPL', 2003, 'Retail')\tCount: 74\tTotal Token Estimate: 15432\n"
     ]
    }
   ],
   "source": [
    "from llm import identify_revenue_by_operating_segment \n",
    "revenue_operating_segments = []\n",
    "\n",
    "for i, company in enumerate(unique_companies):\n",
    "    for j, year in enumerate(unique_years[0:2]):\n",
    "        specific_op_segs = operating_segments_list[i * len(unique_years[0:2]) + j]\n",
    "        df_temp = df_7[(df_7.Company == company) & (df_7.Year == year)]\n",
    "        \n",
    "        items_7_total_text = \"\"\n",
    "        for k in range(len(df_temp)):\n",
    "            items_7_total_text += df_temp.iloc[k].Text\n",
    "            \n",
    "        by_op_seg_matches = list(re.finditer(by_op_seg_pattern, items_7_total_text))\n",
    "        by_op_seg_snippets = [items_7_total_text[m.start() - DELTA: m.end() + DELTA] for m in by_op_seg_matches]\n",
    "        \n",
    "        for op_seg in specific_op_segs:\n",
    "            op_seg_regex = gen_spec_op_seg_pattern(op_seg)\n",
    "            op_seg_matches = list(re.finditer(op_seg_regex, items_7_total_text))\n",
    "            \n",
    "            op_seg_snippets = by_op_seg_snippets + [items_7_total_text[m.start() - DELTA: m.end() + DELTA] for m in op_seg_matches]\n",
    "        \n",
    "            context = \"\\n\\n\".join(op_seg_snippets)\n",
    "            print(f\"Segments found for\\t{company, year, op_seg}\\tCount: {len(op_seg_snippets)}\\tTotal Token Estimate: {len(context)}\")\n",
    "            llama_response = identify_revenue_by_operating_segment(context, company, year, op_seg)\n",
    "            revenue_operating_segments.append(llama_response)"
   ]
  },
  {
   "cell_type": "code",
   "execution_count": 12,
   "metadata": {},
   "outputs": [
    {
     "data": {
      "text/plain": [
       "['According to the 10-K report, the revenue for the Intel Architecture Business operating segment in the year 2002 was approximately:\\n\\n$27',\n",
       " 'According to the 10-K report, the revenue for the Wireless Communications and Computing Group (WCCG) operating segment for the year 2002 is:\\n\\n$8.66 billion',\n",
       " \"According to the 10-K report, the stock's revenue for the Intel Communications Group operating segment in the year 2002 was:\\n\\n$460 million\",\n",
       " 'According to the 10-K report, the revenue for the PC Client Group operating segment in the year 2012 is:\\n\\n$33,566',\n",
       " 'Based on the report, the revenue for the Data Center Group operating segment in the year 2012 is:\\n\\n$6 billion',\n",
       " 'According to the 10-K report, the revenue for the Other Intel Architecture Operating Segments operating segment in 2012 was:\\n\\n$7,493 million',\n",
       " 'According to the 10-K report for Intel (INTC) in 2013, the revenue for the Software and Services Operating Segments (including McAfee, Wind River Systems, and other software and services) for the year 2012 was:\\n\\n$1,830 million',\n",
       " '$5,432,000,000',\n",
       " '$1,574,000,000',\n",
       " '$6,161',\n",
       " '$9,366,000,000',\n",
       " '$447 million',\n",
       " '$447',\n",
       " '$38',\n",
       " '$3,131 million',\n",
       " '$1,251',\n",
       " '$710,000,000',\n",
       " '$283 million']"
      ]
     },
     "execution_count": 12,
     "metadata": {},
     "output_type": "execute_result"
    }
   ],
   "source": [
    "revenue_operating_segments"
   ]
  },
  {
   "cell_type": "code",
   "execution_count": 13,
   "metadata": {},
   "outputs": [],
   "source": [
    "# normalize the values to integers\n",
    "operating_segment_revenue = []\n",
    "for llama_response in revenue_operating_segments:\n",
    "    for line in llama_response.split(\"\\n\\n\"):\n",
    "        if \"$\" not in line:\n",
    "            continue\n",
    "        value = None\n",
    "        if line.count(\",\") == 1:\n",
    "            line += \" million\"\n",
    "        \n",
    "        line = line.replace(\"$\", \"\").replace(\",\", \"\")\n",
    "\n",
    "        if \"million\" in line:\n",
    "            value = int(line.split(\" \")[0]) * 1e6\n",
    "        elif \"billion\" in line:\n",
    "            value = int(float(line.split(\" \")[0]) * 1e9)\n",
    "        else:\n",
    "            value = int(line) * 1e6\n",
    "\n",
    "        operating_segment_revenue.append(value)\n",
    "            \n",
    "                "
   ]
  },
  {
   "cell_type": "code",
   "execution_count": 14,
   "metadata": {},
   "outputs": [
    {
     "data": {
      "text/plain": [
       "[27000000.0,\n",
       " 8660000000,\n",
       " 460000000.0,\n",
       " 33566000000.0,\n",
       " 6000000000,\n",
       " 7493000000.0,\n",
       " 1830000000.0,\n",
       " 5432000000000000.0,\n",
       " 1574000000000000.0,\n",
       " 6161000000.0,\n",
       " 9366000000000000.0,\n",
       " 447000000.0,\n",
       " 447000000.0,\n",
       " 38000000.0,\n",
       " 3131000000.0,\n",
       " 1251000000.0,\n",
       " 710000000000000.0,\n",
       " 283000000.0]"
      ]
     },
     "execution_count": 14,
     "metadata": {},
     "output_type": "execute_result"
    }
   ],
   "source": [
    "operating_segment_revenue"
   ]
  },
  {
   "cell_type": "markdown",
   "metadata": {},
   "source": [
    "# Export Data"
   ]
  },
  {
   "cell_type": "code",
   "execution_count": 102,
   "metadata": {},
   "outputs": [],
   "source": [
    "df_dict = {\n",
    "    \"Company\": [],\n",
    "    \"Year\": [],\n",
    "    \"Operating Segment\": [],\n",
    "    \"Revenue\": []\n",
    "}"
   ]
  },
  {
   "cell_type": "code",
   "execution_count": 113,
   "metadata": {},
   "outputs": [],
   "source": [
    "index = 0\n",
    "for i, company in enumerate(unique_companies):\n",
    "    for j, year in enumerate(unique_years[0:2]):\n",
    "        specific_op_segs = operating_segments_list[i * len(unique_years[0:2]) + j]\n",
    "        for operating_segment in specific_op_segs:\n",
    "            revenue = operating_segment_revenue[index]\n",
    "            df_dict[\"Company\"].append(company)\n",
    "            df_dict[\"Year\"].append(year)\n",
    "            df_dict[\"Operating Segment\"].append(operating_segment)\n",
    "            df_dict[\"Revenue\"].append(revenue)\n",
    "            index += 1"
   ]
  },
  {
   "cell_type": "code",
   "execution_count": 115,
   "metadata": {},
   "outputs": [
    {
     "data": {
      "text/html": [
       "<div>\n",
       "<style scoped>\n",
       "    .dataframe tbody tr th:only-of-type {\n",
       "        vertical-align: middle;\n",
       "    }\n",
       "\n",
       "    .dataframe tbody tr th {\n",
       "        vertical-align: top;\n",
       "    }\n",
       "\n",
       "    .dataframe thead th {\n",
       "        text-align: right;\n",
       "    }\n",
       "</style>\n",
       "<table border=\"1\" class=\"dataframe\">\n",
       "  <thead>\n",
       "    <tr style=\"text-align: right;\">\n",
       "      <th></th>\n",
       "      <th>Company</th>\n",
       "      <th>Year</th>\n",
       "      <th>Operating Segment</th>\n",
       "      <th>Revenue</th>\n",
       "    </tr>\n",
       "  </thead>\n",
       "  <tbody>\n",
       "    <tr>\n",
       "      <th>0</th>\n",
       "      <td>INTC</td>\n",
       "      <td>2003</td>\n",
       "      <td>Intel Architecture Business</td>\n",
       "      <td>2.744600e+10</td>\n",
       "    </tr>\n",
       "    <tr>\n",
       "      <th>1</th>\n",
       "      <td>INTC</td>\n",
       "      <td>2003</td>\n",
       "      <td>Communications and Computing Group</td>\n",
       "      <td>1.447000e+09</td>\n",
       "    </tr>\n",
       "    <tr>\n",
       "      <th>2</th>\n",
       "      <td>INTC</td>\n",
       "      <td>2003</td>\n",
       "      <td>Intel Communications Group</td>\n",
       "      <td>2.453000e+09</td>\n",
       "    </tr>\n",
       "    <tr>\n",
       "      <th>3</th>\n",
       "      <td>INTC</td>\n",
       "      <td>2003</td>\n",
       "      <td>Intel Architecture Business</td>\n",
       "      <td>2.744600e+10</td>\n",
       "    </tr>\n",
       "    <tr>\n",
       "      <th>4</th>\n",
       "      <td>INTC</td>\n",
       "      <td>2003</td>\n",
       "      <td>Communications and Computing Group</td>\n",
       "      <td>1.447000e+09</td>\n",
       "    </tr>\n",
       "  </tbody>\n",
       "</table>\n",
       "</div>"
      ],
      "text/plain": [
       "  Company  Year                   Operating Segment       Revenue\n",
       "0    INTC  2003         Intel Architecture Business  2.744600e+10\n",
       "1    INTC  2003  Communications and Computing Group  1.447000e+09\n",
       "2    INTC  2003          Intel Communications Group  2.453000e+09\n",
       "3    INTC  2003         Intel Architecture Business  2.744600e+10\n",
       "4    INTC  2003  Communications and Computing Group  1.447000e+09"
      ]
     },
     "execution_count": 115,
     "metadata": {},
     "output_type": "execute_result"
    }
   ],
   "source": [
    "import pandas as pd\n",
    "df_op_seg_revenue = pd.DataFrame(df_dict)\n",
    "df_op_seg_revenue.head()"
   ]
  },
  {
   "cell_type": "code",
   "execution_count": null,
   "metadata": {},
   "outputs": [],
   "source": []
  },
  {
   "cell_type": "markdown",
   "metadata": {},
   "source": [
    "# Extract Operating Segments\n",
    "\n",
    "1. Extract instances of operating segments\n",
    "2. Find words around the operating segments -- generate clips\n",
    "3. Feed clips to LLM and ask for operating segments\n",
    "4. Take list of operating segments and create a set of them (may need to use set operating in the event multiple LLAMA requests)\n",
    "\n",
    "*At the end, show the operating segments per stock.*"
   ]
  },
  {
   "cell_type": "code",
   "execution_count": 37,
   "metadata": {},
   "outputs": [],
   "source": [
    "import re\n",
    "pattern = r\"(?i)operating\\s+segment\"\n",
    "DELTA = 100\n",
    "EXTRACT_OPERATING_SEGMENTS_PROMPT = \"Given the aforementioned sections about the stocks operating segments, list the operating segments for the company. Output only the operating segments and in the following format: 'SEGMENT 1, SEGMENT 2, SEGMENT 3...'\""
   ]
  },
  {
   "cell_type": "code",
   "execution_count": 38,
   "metadata": {},
   "outputs": [
    {
     "name": "stdout",
     "output_type": "stream",
     "text": [
      "Segments found for\t('INTC', 1999)\t22\n",
      "Segments found for\t('INTC', 2015)\t145\n",
      "Segments found for\t('AAPL', 2008)\t25\n",
      "Segments found for\t('AAPL', 1997)\t0\n",
      "Segments found for\t('KO', 2000)\t17\n",
      "Segments found for\t('KO', 2017)\t245\n"
     ]
    }
   ],
   "source": [
    "from llm import ask_llama\n",
    "\n",
    "operating_segments_llama_raw = []\n",
    "for i in range(len(df)):\n",
    "    text = df.iloc[i].Text\n",
    "    company_name = df.iloc[i].Company\n",
    "    year = df.iloc[i].Year\n",
    "    matches = list(re.finditer(pattern, text))\n",
    "    snippets = [text[m.start() - DELTA: m.end() + DELTA] for m in matches]\n",
    "    print(f\"Segments found for\\t{company_name, year}\\t{len(snippets)}\")\n",
    "    llama_response = ask_llama(\"\\n\".join(snippets), EXTRACT_OPERATING_SEGMENTS_PROMPT)\n",
    "    operating_segments_llama_raw.append(llama_response)"
   ]
  },
  {
   "cell_type": "code",
   "execution_count": null,
   "metadata": {},
   "outputs": [],
   "source": [
    "snippets"
   ]
  },
  {
   "cell_type": "code",
   "execution_count": 40,
   "metadata": {},
   "outputs": [
    {
     "data": {
      "text/plain": [
       "[['  Sure, based on the information provided in the previous sections, the operating segments for the company are:\\n\\nSEGMENT 1: Automotive\\nSEGMENT 2: Industrial\\nSEGMENT 3: Aerospace\\nSEGMENT 4: Energy\\n\\nSo, the operating segments for the company are: Automotive, Industrial, Aerospace, and Energy.',\n",
       "  '  Sure! Based on the information provided, the operating segments for the company are:\\n\\nSEGMENT 1: Wholesale\\nSEGMENT 2: Retail\\nSEGMENT 3: Direct-to-Consumer\\nSEGMENT 4: Licensing\\n\\nSo, the operating segments for the company are: Wholesale, Retail, Direct-to-Consumer, and Licensing.'],\n",
       " ['  Sure, based on the information provided in the previous sections, the operating segments for the company are:\\n\\nSEGMENT 1: Agriculture\\nSEGMENT 2: Food\\nSEGMENT 3: Energy\\nSEGMENT 4: Chemicals\\nSEGMENT 5: Industrial\\nSEGMENT 6: Healthcare\\n\\nTherefore, the operating segments for the company are: Agriculture, Food, Energy, Chemicals, Industrial, and Healthcare.',\n",
       "  '  Sure, based on the information provided in the previous sections, the operating segments for the company are:\\n\\nSEGMENT 1: Automotive\\nSEGMENT 2: Industrial\\nSEGMENT 3: Aerospace\\nSEGMENT 4: Energy\\nSEGMENT 5: Medical\\nSEGMENT 6: Consumer Goods\\n\\nTherefore, the operating segments for the company are: Automotive, Industrial, Aerospace, Energy, Medical, and Consumer Goods.',\n",
       "  '  Sure! Based on the information provided, the operating segments for the company are:\\n\\nSEGMENT 1: Consumer Goods\\nSEGMENT 2: Pharmaceuticals\\nSEGMENT 3: Industrial Products\\nSEGMENT 4: Energy\\n\\nSo, the operating segments for the company are: Consumer Goods, Pharmaceuticals, Industrial Products, and Energy.',\n",
       "  '  Sure! Based on the information provided in the previous sections, the operating segments for the company are:\\n\\nSEGMENT 1: Healthcare\\nSEGMENT 2: Technology\\nSEGMENT 3: Consumer Goods\\nSEGMENT 4: Industrial Goods\\nSEGMENT 5: Financial Services\\n\\nSo, the operating segments for the company are: Healthcare, Technology, Consumer Goods, Industrial Goods, and Financial Services.',\n",
       "  '  Sure! Based on the information provided, the operating segments for the company are:\\n\\nSEGMENT 1: Automotive\\nSEGMENT 2: Industrial\\nSEGMENT 3: Aerospace\\nSEGMENT 4: Energy\\nSEGMENT 5: Medical\\nSEGMENT 6: Consumer Goods\\nSEGMENT 7: Electronics\\nSEGMENT 8: Chemicals\\nSEGMENT 9: Steel\\nSEGMENT 10: Logistics\\n\\nTherefore, the operating segments for the company are: Automotive, Industrial, Aerospace, Energy, Medical, Consumer Goods, Electronics, Chemicals, Steel, and Logistics.',\n",
       "  '  Based on the information provided, the operating segments for the company are:\\n\\n* Electronic Components\\n* Automotive\\n* Industrial\\n* Medical\\n* Aerospace and Defense\\n\\nTherefore, the operating segments for the company are:\\n\\nElectronic Components, Automotive, Industrial, Medical, Aerospace and Defense.',\n",
       "  '  Sure, based on the information provided in the previous sections, the operating segments for the company are:\\n\\nSEGMENT 1: Wholesale\\nSEGMENT 2: Retail\\nSEGMENT 3: Direct-to-Consumer\\nSEGMENT 4: Licensing\\n\\nSo, the operating segments for the company are: Wholesale, Retail, Direct-to-Consumer, and Licensing.',\n",
       "  '  Sure! Based on the information provided, the operating segments for the company are:\\n\\nSEGMENT 1: Wholesale\\nSEGMENT 2: Retail\\nSEGMENT 3: Direct-to-Consumer\\nSEGMENT 4: Licensing\\n\\nSo, the operating segments for the company are: Wholesale, Retail, Direct-to-Consumer, and Licensing.'],\n",
       " ['  Sure, based on the information provided in the previous sections, the operating segments for the company are:\\n\\nSEGMENT 1: Wholesale\\nSEGMENT 2: Retail\\nSEGMENT 3: Direct-to-Consumer\\nSEGMENT 4: Licensing\\n\\nTherefore, the operating segments for the company are: Wholesale, Retail, Direct-to-Consumer, and Licensing.',\n",
       "  '  Sure! Based on the information provided in the previous sections, the operating segments for the company are:\\n\\nSEGMENT 1: Consumer Products\\nSEGMENT 2: Industrial Products\\nSEGMENT 3: Healthcare Products\\nSEGMENT 4: Food and Beverage Products\\nSEGMENT 5: Personal Care Products\\nSEGMENT 6: Home Care Products\\nSEGMENT 7: Pet Care Products\\n\\nTherefore, the operating segments for the company are:\\n\\nConsumer Products, Industrial Products, Healthcare Products, Food and Beverage Products, Personal Care Products, Home Care Products, and Pet Care Products.'],\n",
       " [],\n",
       " ['  Sure! Based on the information provided, the operating segments for the company are:\\n\\nSEGMENT 1: Wholesale\\nSEGMENT 2: Retail\\nSEGMENT 3: Direct-to-Consumer\\nSEGMENT 4: International\\n\\nSo, the operating segments for the company are: Wholesale, Retail, Direct-to-Consumer, and International.'],\n",
       " ['  Sure! Based on the information provided, the operating segments for the company are:\\n\\nSEGMENT 1: Automotive\\nSEGMENT 2: Energy\\nSEGMENT 3: Industrial\\nSEGMENT 4: Medical\\nSEGMENT 5: Aerospace\\n\\nSo, the operating segments for the company are: Automotive, Energy, Industrial, Medical, and Aerospace.',\n",
       "  '  Sure! Based on the information provided in the previous sections, the operating segments for the company are:\\n\\nSEGMENT 1: Automotive\\nSEGMENT 2: Energy and Environmental Technologies\\nSEGMENT 3: Industrial and Commercial Products\\nSEGMENT 4: Aerospace and Defense\\n\\nTherefore, the operating segments for the company are: Automotive, Energy and Environmental Technologies, Industrial and Commercial Products, and Aerospace and Defense.',\n",
       "  '  Sure! Based on the information provided, the operating segments for the company are:\\n\\nSEGMENT 1: Healthcare\\nSEGMENT 2: Technology\\nSEGMENT 3: Consumer Goods\\nSEGMENT 4: Industrial Goods\\nSEGMENT 5: Financial Services\\nSEGMENT 6: Energy\\n\\nTherefore, the operating segments for the company are: Healthcare, Technology, Consumer Goods, Industrial Goods, Financial Services, and Energy.',\n",
       "  '  Sure! Based on the information provided, the operating segments for the company are:\\n\\nSEGMENT 1: Wholesale\\nSEGMENT 2: Retail\\nSEGMENT 3: Online',\n",
       "  '  Sure! Based on the information provided, the operating segments for the company are:\\n\\nSEGMENT 1: Pharmaceuticals\\nSEGMENT 2: Medical Devices\\nSEGMENT 3: Consumer Products\\nSEGMENT 4: Food and Beverage\\n\\nSo, the operating segments for the company are Pharmaceuticals, Medical Devices, Consumer Products, and Food and Beverage.',\n",
       "  '  Sure, here are the operating segments for the company based on the information provided:\\n\\nSEGMENT 1: Automotive\\nSEGMENT 2: Energy and Environmental\\nSEGMENT 3: Industrial\\nSEGMENT 4: Medical\\nSEGMENT 5: Aerospace and Defense\\n\\nNote that the company has five operating segments in total.',\n",
       "  '  Sure, here are the operating segments for the company based on the information provided:\\n\\nSEGMENT 1: Automotive\\nSEGMENT 2: Financial Services\\nSEGMENT 3: Industrial\\nSEGMENT 4: Technology\\nSEGMENT 5: Energy\\nSEGMENT 6: Healthcare\\nSEGMENT 7: Consumer Goods\\nSEGMENT 8: Retail\\nSEGMENT 9: Aerospace\\nSEGMENT 10: Entertainment\\n\\nTherefore, the operating segments for the company are:\\n\\nAutomotive, Financial Services, Industrial, Technology, Energy, Healthcare, Consumer Goods, Retail, Aerospace, Entertainment.',\n",
       "  '  Sure, based on the information provided in the previous sections, the operating segments for the company are:\\n\\nSEGMENT 1: Automotive\\nSEGMENT 2: Energy and Environmental\\nSEGMENT 3: Industrial\\nSEGMENT 4: Medical\\nSEGMENT 5: Aerospace\\n\\nSo, the operating segments for the company are: Automotive, Energy and Environmental, Industrial, Medical, and Aerospace.',\n",
       "  '  Sure! Based on the information provided in the previous sections, the operating segments for the company are:\\n\\nSEGMENT 1: Automotive\\nSEGMENT 2: Industrial\\nSEGMENT 3: Aerospace\\nSEGMENT 4: Energy\\nSEGMENT 5: Medical\\nSEGMENT 6: Consumer Goods\\n\\nTherefore, the operating segments for the company are: Automotive, Industrial, Aerospace, Energy, Medical, and Consumer Goods.',\n",
       "  '  Sure! Based on the information provided, the operating segments for the company are:\\n\\nSEGMENT 1: Consumer Goods\\nSEGMENT 2: Industrial Goods\\nSEGMENT 3: Healthcare\\nSEGMENT 4: Technology\\nSEGMENT 5: Energy\\nSEGMENT 6: Financials\\nSEGMENT 7: Real Estate\\n\\nTherefore, the operating segments for the company are: Consumer Goods, Industrial Goods, Healthcare, Technology, Energy, Financials, and Real Estate.',\n",
       "  '  Sure! Based on the information provided, the operating segments for the company are:\\n\\nSEGMENT 1: Wholesale\\nSEGMENT 2: Retail\\nSEGMENT 3: Direct-to-Consumer\\nSEGMENT 4: International\\n\\nSo, the operating segments for the company are: Wholesale, Retail, Direct-to-Consumer, and International.',\n",
       "  '  Sure! Based on the information provided, the operating segments for the company are:\\n\\nSEGMENT 1: Automotive\\nSEGMENT 2: Industrial\\nSEGMENT 3: Aerospace\\nSEGMENT 4: Energy\\nSEGMENT 5: Medical\\nSEGMENT 6: Consumer Goods\\nSEGMENT 7: Electronics\\nSEGMENT 8: Chemicals\\nSEGMENT 9: Steel\\nSEGMENT 10: Aluminum\\n\\nTherefore, the operating segments for the company are: Automotive, Industrial, Aerospace, Energy, Medical, Consumer Goods, Electronics, Chemicals, Steel, and Aluminum.',\n",
       "  '  Sure! Based on the information provided in the previous sections, the operating segments for the company are:\\n\\nSEGMENT 1: Retail\\nSEGMENT 2: Wholesale\\nSEGMENT 3: Licensing\\n\\nSo, the operating segments for the company are Retail, Wholesale, and Licensing.',\n",
       "  '  Sure! Based on the information provided, the operating segments for the company are:\\n\\nSEGMENT 1: Healthcare\\nSEGMENT 2: Technology\\nSEGMENT 3: Consumer Goods\\nSEGMENT 4: Industrial Goods\\nSEGMENT 5: Energy\\n\\nI hope this helps! Let me know if you have any further questions.']]"
      ]
     },
     "execution_count": 40,
     "metadata": {},
     "output_type": "execute_result"
    }
   ],
   "source": [
    "operating_segments_llama_raw"
   ]
  },
  {
   "cell_type": "code",
   "execution_count": null,
   "metadata": {},
   "outputs": [],
   "source": [
    "snippets"
   ]
  },
  {
   "cell_type": "markdown",
   "metadata": {},
   "source": [
    "# Troubleshooting"
   ]
  },
  {
   "cell_type": "code",
   "execution_count": 78,
   "metadata": {},
   "outputs": [],
   "source": [
    "# load json parsed\n",
    "\n",
    "import pandas as pd\n",
    "df_intc = pd.read_json(\"data/sec_items/sec_items_INTC.json\")\n",
    "df_ko = pd.read_json(\"data/sec_items/sec_items_KO.json\")\n",
    "df_aapl = pd.read_json('data/sec_items/sec_items_AAPL.json')\n",
    "\n",
    "df = pd.concat([df_intc, df_ko, df_aapl], axis=0)\n",
    "df_1 = df[(df.Item == \"ITEM 1\") | (df.Item == \"ITEM 1A\") | (df.Item == \"Item 1B\")]"
   ]
  },
  {
   "cell_type": "code",
   "execution_count": 79,
   "metadata": {},
   "outputs": [],
   "source": [
    "unique_companies = df_7.Company.unique()\n",
    "unique_years = df_7.Year.unique()"
   ]
  },
  {
   "cell_type": "code",
   "execution_count": 80,
   "metadata": {},
   "outputs": [],
   "source": [
    "import re\n",
    "pattern = r\"(?i)(business|operating)\\s+segment\"\n",
    "DELTA = 300"
   ]
  },
  {
   "cell_type": "code",
   "execution_count": 81,
   "metadata": {},
   "outputs": [
    {
     "data": {
      "text/plain": [
       "['istribution network to effectively reach more customers and provide them with a high-quality sales and post-sales\\nsupport experience. \\n\\xa0 1 \\n\\n\\nTable of Contents\\nBusiness Organization  The Company manages its business primarily on a geographic basis. Accordingly, the Company determined its reportable operating segments, which are generally based on the nature and location of its\\ncustomers, to be the Americas, Europe, Japan, Greater China, Rest of Asia Pacific and Retail. The Americas segment includes both North and South America. The Europe segment includes European countries, as well as India, the Middle East a',\n",
       " ' America. The Europe segment includes European countries, as well as India, the Middle East and Africa.\\nThe Greater China segment includes China, Hong Kong and Taiwan. The Rest of Asia Pacific segment includes Australia and Asian countries, other than those countries included in the Company\\x92s other operating segments. The Retail segment operates\\nApple retail stores in 13 countries, including the U.S. Each operating segment provides similar hardware and software products and similar services. The results of the Company\\x92s geographic segments do not include results of the Retail segment.\\nFurther information regar',\n",
       " 'reater China segment includes China, Hong Kong and Taiwan. The Rest of Asia Pacific segment includes Australia and Asian countries, other than those countries included in the Company\\x92s other operating segments. The Retail segment operates\\nApple retail stores in 13 countries, including the U.S. Each operating segment provides similar hardware and software products and similar services. The results of the Company\\x92s geographic segments do not include results of the Retail segment.\\nFurther information regarding the Company\\x92s operating segments may be found in Part II, Item\\xa07 of this Form 10-K under the subheading ',\n",
       " 'nt operates\\nApple retail stores in 13 countries, including the U.S. Each operating segment provides similar hardware and software products and similar services. The results of the Company\\x92s geographic segments do not include results of the Retail segment.\\nFurther information regarding the Company\\x92s operating segments may be found in Part II, Item\\xa07 of this Form 10-K under the subheading \\x93Segment Operating Performance,\\x94 and in Part II,\\nItem\\xa08 of this Form 10-K in the Notes to Consolidated Financial Statements in Note 11, \\x93Segment Information and Geographic Data.\\x94  Products  iPhone \\niPhone is the Company\\x92s line ']"
      ]
     },
     "execution_count": 81,
     "metadata": {},
     "output_type": "execute_result"
    }
   ],
   "source": [
    "## custom test\n",
    "df_temp = df_1[(df_1.Company == \"AAPL\") & (df_1.Year == 2013)]\n",
    "total_text = \"\"\n",
    "for i in range(len(df_temp)):\n",
    "    total_text += df_temp.iloc[i].Text\n",
    "matches = list(re.finditer(pattern, total_text))\n",
    "snippets = [total_text[m.start() - DELTA: m.end() + DELTA] for m in matches]\n",
    "snippets"
   ]
  },
  {
   "cell_type": "code",
   "execution_count": 68,
   "metadata": {},
   "outputs": [
    {
     "data": {
      "text/plain": [
       "36162"
      ]
     },
     "execution_count": 68,
     "metadata": {},
     "output_type": "execute_result"
    }
   ],
   "source": [
    "len(df_temp.iloc[0].Text)"
   ]
  },
  {
   "cell_type": "code",
   "execution_count": 69,
   "metadata": {},
   "outputs": [
    {
     "name": "stdout",
     "output_type": "stream",
     "text": [
      "INTC 2003 => 90870\n",
      "Segments found for\t('INTC', 2003)\t6\t3707\n",
      "INTC 2013 => 86438\n",
      "Segments found for\t('INTC', 2013)\t18\t11123\n",
      "KO 2003 => 55396\n",
      "Segments found for\t('KO', 2003)\t5\t3090\n",
      "KO 2013 => 100619\n",
      "Segments found for\t('KO', 2013)\t9\t5561\n",
      "AAPL 2003 => 56327\n",
      "Segments found for\t('AAPL', 2003)\t4\t2471\n",
      "AAPL 2013 => 87103\n",
      "Segments found for\t('AAPL', 2013)\t4\t2471\n"
     ]
    }
   ],
   "source": [
    "from llm import identify_operating_segments\n",
    "operating_segments_llama_raw = []\n",
    "snippets\n",
    "for company in unique_companies:\n",
    "    for year in unique_years[0:2]:\n",
    "        df_temp = df_1[(df_1.Company == company) & (df_1.Year == year)]\n",
    "        \n",
    "        total_text = \"\"\n",
    "        for i in range(len(df_temp)):\n",
    "            total_text += df_temp.iloc[i].Text\n",
    "\n",
    "        print(f\"{company} {year} => {len(total_text)}\")\n",
    "\n",
    "        matches = list(re.finditer(pattern, total_text))\n",
    "        snippets = [total_text[m.start() - DELTA: m.end() + DELTA] for m in matches]\n",
    "        print(f\"Segments found for\\t{company, year}\\t{len(snippets)}\\t{len(\" \".join(snippets))}\")\n",
    "        llama_response = identify_operating_segments(\"\\n\\n\".join(snippets), company, year)\n",
    "        operating_segments_llama_raw.append(llama_response)"
   ]
  },
  {
   "cell_type": "code",
   "execution_count": 70,
   "metadata": {},
   "outputs": [
    {
     "data": {
      "text/plain": [
       "['Based on the 10-K report, the operating segments of Intel Corporation (INTC) in 2003 are:\\n\\nIntel Architecture, Wireless Communications and Computing Group, Intel Communications Group',\n",
       " 'Here is the final list of operating segments for Intel Corporation (INTC) based on the 2013 10-K report:\\n\\nPC Client Group, Data Center Group, Other Intel Architecture, Software and Services',\n",
       " 'Based on the 10-K report, the operating segments of KO are:\\n\\nNorth America, Africa, Europe, Eurasia and Middle East, Latin America, Asia, Corporate',\n",
       " 'Based on the 10-K report, the operating segments of The Coca-Cola Company (KO) are:\\n\\nEurasia and Africa, Europe, Latin America, North America, Pacific, Bottling Investments, Corporate',\n",
       " 'Based on the provided sections of the 10-K report for AAPL in 2003, the operating segments are:\\n\\nApples, Europe, Japan, Retail, and Asia-Pacific',\n",
       " 'According to the 10-K report, the operating segments of AAPL in 2013 are:\\n\\nThe Americas, Europe, Japan, Greater China, Rest of Asia Pacific, Retail']"
      ]
     },
     "execution_count": 70,
     "metadata": {},
     "output_type": "execute_result"
    }
   ],
   "source": [
    "operating_segments_llama_raw"
   ]
  },
  {
   "cell_type": "code",
   "execution_count": 71,
   "metadata": {},
   "outputs": [],
   "source": [
    "operating_segments_list = []\n",
    "for llama_response in operating_segments_llama_raw:\n",
    "    report_op_segs = []\n",
    "    for line in llama_response.split(\"\\n\\n\"):\n",
    "        if line.count(\",\") > 1:\n",
    "            for oper_seg in line.split(\",\"):\n",
    "                if \"and \" == oper_seg.strip()[:4]:\n",
    "                    oper_seg = oper_seg.split(\"and \")[1]\n",
    "                report_op_segs.append(oper_seg.strip())\n",
    "    operating_segments_list.append(report_op_segs)"
   ]
  },
  {
   "cell_type": "code",
   "execution_count": 72,
   "metadata": {},
   "outputs": [
    {
     "data": {
      "text/plain": [
       "[['Intel Architecture',\n",
       "  'Wireless Communications and Computing Group',\n",
       "  'Intel Communications Group'],\n",
       " ['PC Client Group',\n",
       "  'Data Center Group',\n",
       "  'Other Intel Architecture',\n",
       "  'Software and Services'],\n",
       " ['North America',\n",
       "  'Africa',\n",
       "  'Europe',\n",
       "  'Eurasia and Middle East',\n",
       "  'Latin America',\n",
       "  'Asia',\n",
       "  'Corporate'],\n",
       " ['Eurasia and Africa',\n",
       "  'Europe',\n",
       "  'Latin America',\n",
       "  'North America',\n",
       "  'Pacific',\n",
       "  'Bottling Investments',\n",
       "  'Corporate'],\n",
       " ['Apples', 'Europe', 'Japan', 'Retail', 'Asia-Pacific'],\n",
       " ['The Americas',\n",
       "  'Europe',\n",
       "  'Japan',\n",
       "  'Greater China',\n",
       "  'Rest of Asia Pacific',\n",
       "  'Retail']]"
      ]
     },
     "execution_count": 72,
     "metadata": {},
     "output_type": "execute_result"
    }
   ],
   "source": [
    "operating_segments_list"
   ]
  },
  {
   "cell_type": "code",
   "execution_count": 76,
   "metadata": {},
   "outputs": [
    {
     "name": "stdout",
     "output_type": "stream",
     "text": [
      "INTC 2003 146\n",
      "INTC 2003 23\n",
      "INTC 2003 132\n",
      "INTC 2003 23\n",
      "INTC 2013 133\n",
      "INTC 2013 23\n",
      "INTC 2013 23\n",
      "INTC 2019 136\n",
      "INTC 2019 23\n"
     ]
    }
   ],
   "source": [
    "for i in range(len(df_1)):\n",
    "    text_length = len(df_1.iloc[i].Text)\n",
    "    if text_length < 200:\n",
    "        print(df_1.iloc[i].Company, df.iloc[i].Year, text_length)"
   ]
  },
  {
   "cell_type": "markdown",
   "metadata": {},
   "source": [
    "# Troubleshooting Magnitude"
   ]
  },
  {
   "cell_type": "code",
   "execution_count": 156,
   "metadata": {},
   "outputs": [],
   "source": [
    "import pandas as pd\n",
    "df = pd.read_csv(\"/Users/rohan/Code/fintech_innovation_summer_task/operating_segments_with_revenue_v1.csv\")"
   ]
  },
  {
   "cell_type": "code",
   "execution_count": 158,
   "metadata": {},
   "outputs": [
    {
     "name": "stdout",
     "output_type": "stream",
     "text": [
      "9\n",
      "8133000000.0 8.133\n",
      "15\n",
      "9366000000000000.0 9.366\n",
      "9\n",
      "4294000000.0 4.294\n",
      "13\n",
      "13436000000000.0 1.3436\n",
      "13\n",
      "15000000000000.0 1.5\n",
      "9\n",
      "1206000000.0 1.206\n",
      "10\n",
      "10909000000.0 1.0909\n",
      "9\n",
      "3942000000.0 3.942\n",
      "10\n",
      "12100000000.0 1.21\n",
      "9\n",
      "3958000000.0 3.958\n",
      "12\n",
      "2662400000000.0 2.6624\n",
      "9\n",
      "4357000000.0 4.357\n",
      "9\n",
      "2908000000.0 2.908\n",
      "9\n",
      "1223000000.0 1.223\n",
      "9\n",
      "2205000000.0 2.205\n",
      "10\n",
      "13505000000.0 1.3505\n",
      "11\n",
      "473000000000.0 4.73\n",
      "12\n",
      "4124000000000.0 4.124\n",
      "16\n",
      "1.2e+16 1.2\n",
      "9\n",
      "3735000000.0 3.735\n",
      "9\n",
      "1367000000.0 1.367\n",
      "9\n",
      "6356000000.0 6.356\n",
      "9\n",
      "1147900000.0 1.1479\n",
      "12\n",
      "1159000000000.0 1.159\n",
      "9\n",
      "4289000000.0 4.289\n",
      "9\n",
      "2380000000.0 2.38\n",
      "10\n",
      "22340000000.0 2.234\n",
      "9\n",
      "3637000000.0 3.637\n",
      "10\n",
      "14100000000.0 1.41\n",
      "9\n",
      "6171079000.0 6.171079\n",
      "14\n",
      "334000000000000.0 3.34\n",
      "9\n",
      "6217000000.0 6.217\n",
      "9\n",
      "8357000000.0 8.357\n",
      "9\n",
      "2054000000.0 2.054\n",
      "10\n",
      "29100000000.0 2.91\n",
      "10\n",
      "44000000000.0 4.4\n",
      "12\n",
      "1136000000000.0 1.136\n",
      "9\n",
      "4933000000.0 4.933\n",
      "9\n",
      "8300000000.0 8.3\n",
      "12\n",
      "1832000000000.0 1.832\n",
      "10\n",
      "30200000000.0 3.02\n",
      "10\n",
      "10332000000.0 1.0332\n",
      "15\n",
      "5400000000000000.0 5.4\n",
      "10\n",
      "19500000000.0 1.95\n",
      "9\n",
      "6816000000.0 6.816\n",
      "13\n",
      "38000000000000.0 3.8\n",
      "15\n",
      "9366000000000000.0 9.366\n",
      "9\n",
      "5616000000.0 5.616\n",
      "11\n",
      "175236000000.0 1.75236\n",
      "9\n",
      "1079000000.0 1.079\n",
      "10\n",
      "15143000000.0 1.5143\n",
      "9\n",
      "3714000000.0 3.714\n",
      "9\n",
      "4033000000.0 4.033\n",
      "10\n",
      "42500000000.0 4.25\n",
      "10\n",
      "34735000000.0 3.4735\n",
      "13\n",
      "10219000000000.0 1.0219\n",
      "10\n",
      "38359000000.0 3.8359\n",
      "9\n",
      "1066000000.0 1.066\n",
      "11\n",
      "134152000000.0 1.34152\n",
      "9\n",
      "2530000000.0 2.53\n",
      "9\n",
      "1657000000.0 1.657\n",
      "9\n",
      "1510000000.0 1.51\n",
      "10\n",
      "16432000000.0 1.6432\n",
      "11\n",
      "949021000000.0 9.49021\n",
      "9\n",
      "3725000000.0 3.725\n",
      "10\n",
      "11596000000.0 1.1596\n",
      "9\n",
      "1082000000.0 1.082\n",
      "9\n",
      "4115000000.0 4.115\n",
      "9\n",
      "5460000000.0 5.46\n",
      "9\n",
      "6590000000.0 6.59\n",
      "9\n",
      "3841000000.0 3.841\n",
      "9\n",
      "1208000000.0 1.208\n",
      "9\n",
      "2350000000.0 2.35\n",
      "9\n",
      "3073000000.0 3.073\n",
      "10\n",
      "34555000000.0 3.4555\n",
      "10\n",
      "32596000000.0 3.2596\n",
      "10\n",
      "27778000000.0 2.7778\n",
      "9\n",
      "4019000000.0 4.019\n",
      "9\n",
      "1438000000.0 1.438\n",
      "12\n",
      "1220000000000.0 1.22\n",
      "12\n",
      "1185000000000.0 1.185\n",
      "9\n",
      "3073000000.0 3.073\n",
      "10\n",
      "14573000000.0 1.4573\n",
      "9\n",
      "1509000000.0 1.509\n",
      "9\n",
      "6315000000.0 6.315\n",
      "9\n",
      "7622000000.0 7.622\n",
      "10\n",
      "80095000000.0 8.0095\n",
      "10\n",
      "58715000000.0 5.8715\n",
      "10\n",
      "15093000000.0 1.5093\n",
      "10\n",
      "15706000000.0 1.5706\n",
      "10\n",
      "80095000000.0 8.0095\n",
      "10\n",
      "93864000000.0 9.3864\n",
      "10\n",
      "58715000000.0 5.8715\n",
      "10\n",
      "15093000000.0 1.5093\n",
      "10\n",
      "15706000000.0 1.5706\n",
      "10\n",
      "50337000000.0 5.0337\n",
      "9\n",
      "9415000000.0 9.415\n",
      "9\n",
      "1211000000.0 1.211\n",
      "9\n",
      "3246000000.0 3.246\n",
      "9\n",
      "4096000000.0 4.096\n",
      "9\n",
      "3131000000.0 3.131\n",
      "9\n",
      "1249000000.0 1.249\n",
      "9\n",
      "2996000000.0 2.996\n",
      "9\n",
      "1345000000.0 1.345\n",
      "9\n",
      "1249000000.0 1.249\n",
      "10\n",
      "24498000000.0 2.4498\n",
      "9\n",
      "9798000000.0 9.798\n",
      "10\n",
      "18692000000.0 1.8692\n",
      "10\n",
      "24498000000.0 2.4498\n",
      "9\n",
      "3181000000.0 3.181\n",
      "9\n",
      "1309000000.0 1.309\n",
      "10\n",
      "18981000000.0 1.8981\n",
      "9\n",
      "5331000000.0 5.331\n",
      "9\n",
      "2279000000.0 2.279\n",
      "9\n",
      "6656000000.0 6.656\n",
      "9\n",
      "7652000000.0 7.652\n",
      "10\n",
      "62739000000.0 6.2739\n",
      "10\n",
      "11181000000.0 1.1181\n",
      "10\n",
      "37883000000.0 3.7883\n",
      "10\n",
      "57512000000.0 5.7512\n",
      "10\n",
      "22533000000.0 2.2533\n",
      "10\n",
      "36323000000.0 3.6323\n",
      "9\n",
      "5439000000.0 5.439\n",
      "10\n",
      "22316000000.0 2.2316\n",
      "10\n",
      "23818000000.0 2.3818\n",
      "9\n",
      "6000000000.0 6.0\n",
      "10\n",
      "10732000000.0 1.0732\n",
      "9\n",
      "3474000000.0 3.474\n",
      "9\n",
      "1409000000.0 1.409\n",
      "9\n",
      "4200000000.0 4.2\n",
      "14\n",
      "264000000000000.0 2.64\n",
      "13\n",
      "22500000000000.0 2.25\n",
      "10\n",
      "10000000000.0 1.0\n",
      "12\n",
      "6240000000000.0 6.24\n",
      "9\n",
      "2216000000.0 2.216\n",
      "9\n",
      "9350000000.0 9.35\n",
      "9\n",
      "8403000000.0 8.403\n",
      "9\n",
      "5511000000.0 5.511\n",
      "9\n",
      "4855000000.0 4.855\n",
      "9\n",
      "2502000000.0 2.502\n",
      "9\n",
      "4490000000.0 4.49\n",
      "9\n",
      "9394000000.0 9.394\n",
      "9\n",
      "5900000000.0 5.9\n",
      "10\n",
      "32908000000.0 3.2908\n",
      "9\n",
      "2146000000.0 2.146\n",
      "9\n",
      "1669000000.0 1.669\n",
      "9\n",
      "2638000000.0 2.638\n",
      "10\n",
      "17236000000.0 1.7236\n",
      "10\n",
      "17236000000.0 1.7236\n",
      "9\n",
      "2434000000.0 2.434\n",
      "9\n",
      "6492000000.0 6.492\n",
      "10\n",
      "14400000000.0 1.44\n",
      "9\n",
      "2933000000.0 2.933\n",
      "9\n",
      "4675000000.0 4.675\n",
      "9\n",
      "2456000000.0 2.456\n",
      "10\n",
      "32219000000.0 3.2219\n",
      "9\n",
      "2298000000.0 2.298\n",
      "10\n",
      "15977000000.0 1.5977\n",
      "9\n",
      "2622000000.0 2.622\n",
      "10\n",
      "13304000000.0 1.3304\n",
      "9\n",
      "8600000000.0 8.6\n",
      "9\n",
      "4395000000.0 4.395\n",
      "9\n",
      "1245000000.0 1.245\n",
      "9\n",
      "1133000000.0 1.133\n",
      "10\n",
      "22316000000.0 2.2316\n"
     ]
    }
   ],
   "source": [
    "import pandas as pd\n",
    "for i in range(len(df)):\n",
    "    revenue = float(df.iloc[i][\"Revenue\"])\n",
    "    \n",
    "    if revenue > 1e9:\n",
    "        print(int(np.log10(revenue)))\n",
    "        stem = revenue / (10**int(np.log10(revenue)))\n",
    "        print(revenue, stem)    \n",
    "        df.loc[i, \"Revenue\"] = stem * 1e9"
   ]
  },
  {
   "cell_type": "code",
   "execution_count": 160,
   "metadata": {},
   "outputs": [],
   "source": [
    "df.to_csv(\"operating_segments_with_revenue_v1_1.csv\")"
   ]
  },
  {
   "cell_type": "code",
   "execution_count": 126,
   "metadata": {},
   "outputs": [],
   "source": [
    "import numpy as np\n",
    "# df_gt_bill[\"base_10_mag\"] = np.log10(df_gt_bill[\"Revenue\"].to_numpy().astype(float)).astype(int)\n",
    "# df_gt_bill[\"stem\"] = df_gt_bill[\"Revenue\"] / (10** df_gt_bill[\"base_10_mag\"])\n",
    "# df_gt_bill[\"revised_revenue\"] = df_gt_bill[\"stem\"] * (1e9)\n",
    "# df.update(df_gt_bill)\n",
    "\n",
    "df.loc[df[\"Revenue\"] > 1e9, \"Revised Revenue\"] = df_gt_bill[\"Revenue\"] / (10** np.log10(df_gt_bill[\"Revenue\"].to_numpy().astype(float)).astype(int)) * (1e9)"
   ]
  },
  {
   "cell_type": "code",
   "execution_count": 157,
   "metadata": {},
   "outputs": [
    {
     "data": {
      "text/plain": [
       "74"
      ]
     },
     "execution_count": 157,
     "metadata": {},
     "output_type": "execute_result"
    }
   ],
   "source": [
    "df[\"gt_billion\"] = df[\"Revenue\"] > 1e10\n",
    "df[\"gt_billion\"].astype(int).sum()"
   ]
  },
  {
   "cell_type": "code",
   "execution_count": 159,
   "metadata": {},
   "outputs": [
    {
     "data": {
      "text/plain": [
       "0"
      ]
     },
     "execution_count": 159,
     "metadata": {},
     "output_type": "execute_result"
    }
   ],
   "source": [
    "df[\"gt_billion\"] = df[\"Revenue\"] > 1e10\n",
    "df[\"gt_billion\"].astype(int).sum()"
   ]
  },
  {
   "cell_type": "code",
   "execution_count": null,
   "metadata": {},
   "outputs": [],
   "source": []
  }
 ],
 "metadata": {
  "kernelspec": {
   "display_name": "Python 3 (ipykernel)",
   "language": "python",
   "name": "python3"
  },
  "language_info": {
   "codemirror_mode": {
    "name": "ipython",
    "version": 3
   },
   "file_extension": ".py",
   "mimetype": "text/x-python",
   "name": "python",
   "nbconvert_exporter": "python",
   "pygments_lexer": "ipython3",
   "version": "3.12.3"
  }
 },
 "nbformat": 4,
 "nbformat_minor": 4
}
