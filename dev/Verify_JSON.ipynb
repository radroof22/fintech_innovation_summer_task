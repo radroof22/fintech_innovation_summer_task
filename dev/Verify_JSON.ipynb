{
 "cells": [
  {
   "cell_type": "markdown",
   "metadata": {},
   "source": [
    "# AAPL"
   ]
  },
  {
   "cell_type": "code",
   "execution_count": 1,
   "metadata": {},
   "outputs": [],
   "source": [
    "import pandas as pd"
   ]
  },
  {
   "cell_type": "code",
   "execution_count": 3,
   "metadata": {},
   "outputs": [],
   "source": [
    "df = pd.read_json(\"../sec_items_KO.json\")"
   ]
  },
  {
   "cell_type": "markdown",
   "metadata": {},
   "source": [
    "## Company"
   ]
  },
  {
   "cell_type": "code",
   "execution_count": 4,
   "metadata": {},
   "outputs": [
    {
     "data": {
      "text/plain": [
       "Company\n",
       "KO    486\n",
       "Name: count, dtype: int64"
      ]
     },
     "execution_count": 4,
     "metadata": {},
     "output_type": "execute_result"
    }
   ],
   "source": [
    "df.Company.value_counts()"
   ]
  },
  {
   "cell_type": "markdown",
   "metadata": {},
   "source": [
    "## Item"
   ]
  },
  {
   "cell_type": "code",
   "execution_count": 5,
   "metadata": {},
   "outputs": [
    {
     "data": {
      "text/plain": [
       "Item\n",
       "ITEM 1     26\n",
       "ITEM 8     26\n",
       "ITEM 14    26\n",
       "ITEM 13    26\n",
       "ITEM 12    26\n",
       "ITEM 11    26\n",
       "ITEM 2     26\n",
       "ITEM 9     26\n",
       "ITEM 10    26\n",
       "ITEM 7A    26\n",
       "ITEM 7     26\n",
       "ITEM 6     26\n",
       "ITEM 5     26\n",
       "ITEM 4     26\n",
       "ITEM 3     26\n",
       "ITEM 15    21\n",
       "ITEM 9A    20\n",
       "ITEM 9B    19\n",
       "ITEM 1A    18\n",
       "ITEM 1B    18\n",
       "Name: count, dtype: int64"
      ]
     },
     "execution_count": 5,
     "metadata": {},
     "output_type": "execute_result"
    }
   ],
   "source": [
    "df.Item.value_counts()"
   ]
  },
  {
   "cell_type": "markdown",
   "metadata": {},
   "source": [
    "## Year"
   ]
  },
  {
   "cell_type": "code",
   "execution_count": 6,
   "metadata": {},
   "outputs": [
    {
     "data": {
      "text/plain": [
       "Year\n",
       "2007    20\n",
       "2020    20\n",
       "2016    20\n",
       "2021    20\n",
       "2008    20\n",
       "2019    20\n",
       "2013    20\n",
       "2006    20\n",
       "2009    20\n",
       "2012    20\n",
       "2017    20\n",
       "2011    20\n",
       "2015    20\n",
       "2010    20\n",
       "2022    20\n",
       "2018    20\n",
       "2014    20\n",
       "2023    20\n",
       "2005    18\n",
       "2004    17\n",
       "2003    16\n",
       "1999    15\n",
       "2002    15\n",
       "2001    15\n",
       "1998    15\n",
       "2000    15\n",
       "Name: count, dtype: int64"
      ]
     },
     "execution_count": 6,
     "metadata": {},
     "output_type": "execute_result"
    }
   ],
   "source": [
    "df.Year.value_counts()"
   ]
  },
  {
   "cell_type": "markdown",
   "metadata": {},
   "source": [
    "# Examine 7As"
   ]
  },
  {
   "cell_type": "code",
   "execution_count": 7,
   "metadata": {},
   "outputs": [],
   "source": [
    "df_7a = df[df.Item == \"ITEM 7A\"]"
   ]
  },
  {
   "cell_type": "code",
   "execution_count": 16,
   "metadata": {},
   "outputs": [
    {
     "name": "stdout",
     "output_type": "stream",
     "text": [
      "2018\n",
      "QUANTITATIVE AND QUALITATIVE DISCLOSURES ABOUT MARKET RISKOur Company uses derivative financial instruments primarily to reduce our exposure to adverse fluctuations in foreign currency exchange rates, interest rates, commodity prices and other market risks. We do not enter into derivative financial instruments for trading purposes. As a matter of policy, all of our derivative positions are used to reduce risk by hedging an underlying economic exposure. Because of the high correlation between the hedging instrument and the underlying exposure, fluctuations in the value of the instruments are generally offset by reciprocal changes in the value of the underlying exposure. The Company generally hedges anticipated exposures up to 36 months in advance; however, the majority of our derivative instruments expire within 24 months or less. Virtually all of our derivatives are straightforward over-the-counter instruments with liquid markets.We monitor our exposure to financial market risks using several objective measurement systems, including a sensitivity analysis to measure our exposure to fluctuations in foreign currency exchange rates, interest rates and commodity prices. Refer to Note 5 of Notes to Consolidated Financial Statements for additional information about our hedging transactions and derivative financial instruments.Foreign Currency Exchange RatesWe manage most of our foreign currency exposures on a consolidated basis, which allows us to net certain exposures and take advantage of any natural offsets. In 2017, we used 74 functional currencies and generated $20,683 million of our net operating revenues from operations outside the United States; therefore, weaknesses in some currencies might be offset by strengths in other currencies over time. We use derivative financial instruments to further reduce our net exposure to foreign currency fluctuations.Our Company enters into forward exchange contracts and purchases foreign currency options (principally euros and Japanese yen) and collars to hedge certain portions of forecasted cash flows denominated in foreign currencies. Additionally, we enter into forward exchange contracts to offset the earnings impact related to foreign currency fluctuations on certain monetary assets and liabilities. We also enter into forward exchange contracts as hedges of net investments in foreign operations.The total notional values of our foreign currency derivatives were $13,057 million and $14,464 million as of December 31, 2017 and 2016, respectively. These values include derivative instruments that are designated and qualify for hedge accounting as well as economic hedges. The fair value of the contracts that qualify for hedge accounting resulted in a net unrealized gain of $22 million as of December 31, 2017. At the end of 2017, we estimate that a 10 percent weakening of the U.S. dollar would have eliminated the net unrealized gain and created a net unrealized loss of $253 million. The fair value of the contracts that do not qualify for hedge accounting resulted in a net unrealized loss of $50 million, and we estimate that a 10 percent weakening of the U.S. dollar would have increased the net unrealized loss to $105 million. Interest RatesThe Company is subject to interest rate volatility with regard to existing and future issuances of debt. We monitor our mix of fixed-rate and variable-rate debt as well as our mix of short-term debt and long-term debt. From time to time, we enter into interest rate swap agreements to manage our exposure to interest rate fluctuations.Based on the Company's variable-rate debt and derivative instruments outstanding as of December 31, 2017, we estimate that a 1 percentage point increase in interest rates would have increased interest expense by $252 million in 2017. However, this increase in interest expense would have been partially offset by the increase in interest income related to higher interest rates.The Company is subject to interest rate risk related to its investments in highly liquid securities. These investments are primarily managed by external managers within the guidelines of the Company's investment policy. Our policy requires these investments to be investment grade, with the primary objective of minimizing the potential risk of principal loss. In addition, our policy limits the amount of credit exposure to any one issuer. We estimate that a 1 percentage point increase in interest rates would result in a $97 million decrease in the fair value of our portfolio of highly liquid securities.Commodity PricesThe Company is subject to market risk with respect to commodity price fluctuations, principally related to our purchases of sweeteners, metals, juices, PET and fuels. We manage our exposure to commodity risks primarily through the use of supplier pricing agreements that enable us to establish the purchase prices for certain inputs that are used in our manufacturing and distribution business. When deemed appropriate, we use derivative financial instruments to manage our exposure to commodity risks. Certain of these derivatives do not qualify for hedge accounting, but they are effective economic hedges that help the Company mitigate the price risk associated with the purchases of materials used in our manufacturing processes and the fuel used to operate our extensive vehicle fleet.Open commodity derivatives that qualify for hedge accounting had notional values of $35 million and $12 million as of December 31, 2017 and 2016, respectively. The fair value of the contracts that qualify for hedge accounting resulted in a net 69unrealized loss of $5 million. The potential change in fair value of these commodity derivative instruments, assuming a 10 percent decrease in underlying commodity prices, would have increased the net unrealized loss to $6 million.Open commodity derivatives that do not qualify for hedge accounting had notional values of $357 million and $447 million as of December 31, 2017 and 2016, respectively. The fair value of the contracts that do not qualify for hedge accounting resulted in a net unrealized gain of $20 million. The potential change in fair value of these commodity derivative instruments, assuming a 10 percent decrease in underlying commodity prices, would have eliminated the net unrealized gain and created a net unrealized loss of $18 million.70\n"
     ]
    }
   ],
   "source": [
    "i = 6\n",
    "\n",
    "print(df_7a.iloc[i].Year)\n",
    "print(df_7a.iloc[i].Text)"
   ]
  },
  {
   "cell_type": "code",
   "execution_count": null,
   "metadata": {},
   "outputs": [],
   "source": []
  }
 ],
 "metadata": {
  "kernelspec": {
   "display_name": "fintech-innovation",
   "language": "python",
   "name": "python3"
  },
  "language_info": {
   "codemirror_mode": {
    "name": "ipython",
    "version": 3
   },
   "file_extension": ".py",
   "mimetype": "text/x-python",
   "name": "python",
   "nbconvert_exporter": "python",
   "pygments_lexer": "ipython3",
   "version": "3.12.3"
  }
 },
 "nbformat": 4,
 "nbformat_minor": 2
}
