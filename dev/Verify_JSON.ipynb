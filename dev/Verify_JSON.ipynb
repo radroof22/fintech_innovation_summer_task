{
 "cells": [
  {
   "cell_type": "markdown",
   "metadata": {},
   "source": [
    "# AAPL"
   ]
  },
  {
   "cell_type": "code",
   "execution_count": 2,
   "metadata": {},
   "outputs": [],
   "source": [
    "import pandas as pd"
   ]
  },
  {
   "cell_type": "code",
   "execution_count": 22,
   "metadata": {},
   "outputs": [],
   "source": [
    "df = pd.read_json(\"../data/sec_items/sec_items_KO.json\")"
   ]
  },
  {
   "cell_type": "markdown",
   "metadata": {},
   "source": [
    "## Company"
   ]
  },
  {
   "cell_type": "code",
   "execution_count": 23,
   "metadata": {},
   "outputs": [
    {
     "data": {
      "text/plain": [
       "Company\n",
       "KO    486\n",
       "Name: count, dtype: int64"
      ]
     },
     "execution_count": 23,
     "metadata": {},
     "output_type": "execute_result"
    }
   ],
   "source": [
    "df.Company.value_counts()"
   ]
  },
  {
   "cell_type": "markdown",
   "metadata": {},
   "source": [
    "## Item"
   ]
  },
  {
   "cell_type": "code",
   "execution_count": 24,
   "metadata": {},
   "outputs": [
    {
     "data": {
      "text/plain": [
       "Item\n",
       "ITEM 1     26\n",
       "ITEM 8     26\n",
       "ITEM 14    26\n",
       "ITEM 13    26\n",
       "ITEM 12    26\n",
       "ITEM 11    26\n",
       "ITEM 2     26\n",
       "ITEM 9     26\n",
       "ITEM 10    26\n",
       "ITEM 7A    26\n",
       "ITEM 7     26\n",
       "ITEM 6     26\n",
       "ITEM 5     26\n",
       "ITEM 4     26\n",
       "ITEM 3     26\n",
       "ITEM 15    21\n",
       "ITEM 9A    20\n",
       "ITEM 9B    19\n",
       "ITEM 1A    18\n",
       "ITEM 1B    18\n",
       "Name: count, dtype: int64"
      ]
     },
     "execution_count": 24,
     "metadata": {},
     "output_type": "execute_result"
    }
   ],
   "source": [
    "df.Item.value_counts()"
   ]
  },
  {
   "cell_type": "markdown",
   "metadata": {},
   "source": [
    "## Year"
   ]
  },
  {
   "cell_type": "code",
   "execution_count": 25,
   "metadata": {},
   "outputs": [
    {
     "data": {
      "text/plain": [
       "Year\n",
       "2007    20\n",
       "2020    20\n",
       "2016    20\n",
       "2021    20\n",
       "2008    20\n",
       "2019    20\n",
       "2013    20\n",
       "2006    20\n",
       "2009    20\n",
       "2012    20\n",
       "2017    20\n",
       "2011    20\n",
       "2015    20\n",
       "2010    20\n",
       "2022    20\n",
       "2018    20\n",
       "2014    20\n",
       "2023    20\n",
       "2005    18\n",
       "2004    17\n",
       "2003    16\n",
       "1999    15\n",
       "2002    15\n",
       "2001    15\n",
       "1998    15\n",
       "2000    15\n",
       "Name: count, dtype: int64"
      ]
     },
     "execution_count": 25,
     "metadata": {},
     "output_type": "execute_result"
    }
   ],
   "source": [
    "df.Year.value_counts()"
   ]
  },
  {
   "cell_type": "markdown",
   "metadata": {},
   "source": [
    "# Examine 7As"
   ]
  },
  {
   "cell_type": "code",
   "execution_count": 26,
   "metadata": {},
   "outputs": [],
   "source": [
    "df_7a = df[df.Item == \"ITEM 7A\"]"
   ]
  },
  {
   "cell_type": "code",
   "execution_count": 27,
   "metadata": {},
   "outputs": [
    {
     "name": "stdout",
     "output_type": "stream",
     "text": [
      "2005\n",
      "QUANTITATIVE AND QUALITATIVE DISCLOSURES ABOUT MARKET RISK     \n",
      "        The information called for by this Item is incorporated herein by reference to (i) the information in Item 7 of this report under the heading\n",
      "\"Financial Strategies and Risk Management\" and (ii) Note 10 to the Consolidated Financial Statements included under Item 8 of this report. \n",
      "59\n"
     ]
    }
   ],
   "source": [
    "i = 3\n",
    "\n",
    "print(df_7a.iloc[i].Year)\n",
    "print(df_7a.iloc[i].Text)"
   ]
  },
  {
   "cell_type": "code",
   "execution_count": null,
   "metadata": {},
   "outputs": [],
   "source": []
  }
 ],
 "metadata": {
  "kernelspec": {
   "display_name": "fintech-innovation",
   "language": "python",
   "name": "python3"
  },
  "language_info": {
   "codemirror_mode": {
    "name": "ipython",
    "version": 3
   },
   "file_extension": ".py",
   "mimetype": "text/x-python",
   "name": "python",
   "nbconvert_exporter": "python",
   "pygments_lexer": "ipython3",
   "version": "3.12.3"
  }
 },
 "nbformat": 4,
 "nbformat_minor": 2
}
